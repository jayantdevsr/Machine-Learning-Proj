{
 "cells": [
  {
   "cell_type": "code",
   "execution_count": 20,
   "id": "43502f70",
   "metadata": {},
   "outputs": [],
   "source": [
    "import pandas as pd\n",
    "from sklearn.linear_model import LinearRegression\n",
    "from sklearn.model_selection import train_test_split\n",
    "from datetime import date as date_n\n",
    "from sklearn.metrics import mean_squared_error,r2_score,mean_absolute_error"
   ]
  },
  {
   "cell_type": "code",
   "execution_count": 21,
   "id": "093b2cd2",
   "metadata": {},
   "outputs": [],
   "source": [
    "a=pd.read_csv('silver.csv')\n",
    "a['date']=(pd.to_datetime(a['date'], format='%Y-%m-%d')-pd.to_datetime('1973-01-01')).dt.days"
   ]
  },
  {
   "cell_type": "code",
   "execution_count": 22,
   "id": "cc4bd220",
   "metadata": {},
   "outputs": [],
   "source": [
    "X = a.iloc[:,[0,1,2,6]].values\n",
    "Y = a.iloc[:,[3]].values\n",
    "X_train, X_test, Y_train, Y_test = train_test_split(X, Y, test_size=0.2, random_state=0)"
   ]
  },
  {
   "cell_type": "code",
   "execution_count": 23,
   "id": "a1e925ce",
   "metadata": {},
   "outputs": [
    {
     "data": {
      "text/plain": [
       "LinearRegression()"
      ]
     },
     "execution_count": 23,
     "metadata": {},
     "output_type": "execute_result"
    }
   ],
   "source": [
    "linreg = LinearRegression()\n",
    "linreg.fit(X_test,Y_test)"
   ]
  },
  {
   "cell_type": "code",
   "execution_count": 24,
   "id": "19fe369a",
   "metadata": {},
   "outputs": [
    {
     "name": "stdout",
     "output_type": "stream",
     "text": [
      "[[1.86201872]\n",
      " [1.57746208]\n",
      " [1.05344798]\n",
      " ...\n",
      " [1.13426218]\n",
      " [1.4918274 ]\n",
      " [1.51288796]]\n"
     ]
    }
   ],
   "source": [
    "y_1 = linreg.predict(X_test)\n",
    "print(y_1)  \n",
    "y_1 = pd.DataFrame(y_1)\n",
    "y_1.to_csv('LR-EQPD.csv')"
   ]
  },
  {
   "cell_type": "code",
   "execution_count": 25,
   "id": "b0b59152",
   "metadata": {},
   "outputs": [
    {
     "name": "stdout",
     "output_type": "stream",
     "text": [
      "MSE:  0.8943696178747426  \n",
      "R2:  0.4776706496893517  \n",
      "MAE:  0.7178582968477711\n"
     ]
    }
   ],
   "source": [
    "print(\"MSE: \",mean_squared_error(Y_test,y_1),\" \\nR2: \",r2_score(Y_test,y_1),\" \\nMAE: \",mean_absolute_error(Y_test,y_1))"
   ]
  }
 ],
 "metadata": {
  "kernelspec": {
   "display_name": "Python 3 (ipykernel)",
   "language": "python",
   "name": "python3"
  },
  "language_info": {
   "codemirror_mode": {
    "name": "ipython",
    "version": 3
   },
   "file_extension": ".py",
   "mimetype": "text/x-python",
   "name": "python",
   "nbconvert_exporter": "python",
   "pygments_lexer": "ipython3",
   "version": "3.9.13"
  }
 },
 "nbformat": 4,
 "nbformat_minor": 5
}
