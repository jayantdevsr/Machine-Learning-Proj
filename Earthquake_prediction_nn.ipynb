{
 "cells": [
  {
   "cell_type": "code",
   "execution_count": 1,
   "id": "f26e96db",
   "metadata": {},
   "outputs": [],
   "source": [
    "import math\n",
    "import pandas as pd\n",
    "import tensorflow as tf\n",
    "from tensorflow.keras import Model\n",
    "from tensorflow.keras import Sequential\n",
    "from tensorflow.keras.optimizers import Adam\n",
    "from sklearn.preprocessing import StandardScaler\n",
    "from tensorflow.keras.layers import Dense, Dropout\n",
    "from sklearn.model_selection import train_test_split\n",
    "from tensorflow.keras.losses import MeanSquaredLogarithmicError\n",
    "from sklearn.metrics import mean_squared_error,r2_score,mean_absolute_error"
   ]
  },
  {
   "cell_type": "code",
   "execution_count": 2,
   "id": "21652373",
   "metadata": {},
   "outputs": [],
   "source": [
    "a=pd.read_csv('silver.csv')\n",
    "a['date']=(pd.to_datetime(a['date'], format='%Y-%m-%d')-pd.to_datetime('1973-01-01')).dt.days\n",
    "X = a.iloc[:,[0,1,2,6]].values\n",
    "Y = a.iloc[:,[3]].values\n",
    "X_train, X_test, Y_train, Y_test = train_test_split(X, Y, test_size=0.2, random_state=0)"
   ]
  },
  {
   "cell_type": "code",
   "execution_count": 3,
   "id": "c285bdd2",
   "metadata": {},
   "outputs": [],
   "source": [
    "def scale_datasets(X_train, X_test):\n",
    "  standard_scaler = StandardScaler()\n",
    "  X_train_scaled = pd.DataFrame(standard_scaler.fit_transform(X_train))\n",
    "  X_test_scaled = pd.DataFrame(standard_scaler.transform(X_test))\n",
    "  return X_train_scaled, X_test_scaled\n",
    "X_train_scaled, X_test_scaled = scale_datasets(X_train, X_test)"
   ]
  },
  {
   "cell_type": "code",
   "execution_count": 4,
   "id": "9b6a6aec",
   "metadata": {},
   "outputs": [],
   "source": [
    "hidden_units1 = 160\n",
    "hidden_units2 = 480\n",
    "hidden_units3 = 256\n",
    "learning_rate = 0.01\n",
    "def build_model_using_sequential():\n",
    "  model = Sequential([Dense(hidden_units1, kernel_initializer='normal', activation='relu'),Dropout(0.2),\n",
    "    Dense(hidden_units2, kernel_initializer='normal', activation='relu'),Dropout(0.2),\n",
    "    Dense(hidden_units3, kernel_initializer='normal', activation='relu'),\n",
    "    Dense(1, kernel_initializer='normal', activation='linear')])\n",
    "  return model\n",
    "model = build_model_using_sequential()"
   ]
  },
  {
   "cell_type": "code",
   "execution_count": 5,
   "id": "719625fa",
   "metadata": {},
   "outputs": [
    {
     "name": "stdout",
     "output_type": "stream",
     "text": [
      "Epoch 1/10\n",
      "\u001b[1m38558/38558\u001b[0m \u001b[32m━━━━━━━━━━━━━━━━━━━━\u001b[0m\u001b[37m\u001b[0m \u001b[1m93s\u001b[0m 2ms/step - loss: 0.0827 - mean_squared_logarithmic_error: 0.0827 - val_loss: 0.0702 - val_mean_squared_logarithmic_error: 0.0702\n",
      "Epoch 2/10\n",
      "\u001b[1m38558/38558\u001b[0m \u001b[32m━━━━━━━━━━━━━━━━━━━━\u001b[0m\u001b[37m\u001b[0m \u001b[1m102s\u001b[0m 3ms/step - loss: 0.0732 - mean_squared_logarithmic_error: 0.0732 - val_loss: 0.0714 - val_mean_squared_logarithmic_error: 0.0714\n",
      "Epoch 3/10\n",
      "\u001b[1m38558/38558\u001b[0m \u001b[32m━━━━━━━━━━━━━━━━━━━━\u001b[0m\u001b[37m\u001b[0m \u001b[1m106s\u001b[0m 3ms/step - loss: 0.0723 - mean_squared_logarithmic_error: 0.0723 - val_loss: 0.0729 - val_mean_squared_logarithmic_error: 0.0729\n",
      "Epoch 4/10\n",
      "\u001b[1m38558/38558\u001b[0m \u001b[32m━━━━━━━━━━━━━━━━━━━━\u001b[0m\u001b[37m\u001b[0m \u001b[1m104s\u001b[0m 3ms/step - loss: 0.0715 - mean_squared_logarithmic_error: 0.0715 - val_loss: 0.0654 - val_mean_squared_logarithmic_error: 0.0654\n",
      "Epoch 5/10\n",
      "\u001b[1m38558/38558\u001b[0m \u001b[32m━━━━━━━━━━━━━━━━━━━━\u001b[0m\u001b[37m\u001b[0m \u001b[1m112s\u001b[0m 3ms/step - loss: 0.0710 - mean_squared_logarithmic_error: 0.0710 - val_loss: 0.0649 - val_mean_squared_logarithmic_error: 0.0649\n",
      "Epoch 6/10\n",
      "\u001b[1m38558/38558\u001b[0m \u001b[32m━━━━━━━━━━━━━━━━━━━━\u001b[0m\u001b[37m\u001b[0m \u001b[1m103s\u001b[0m 3ms/step - loss: 0.0705 - mean_squared_logarithmic_error: 0.0705 - val_loss: 0.0725 - val_mean_squared_logarithmic_error: 0.0725\n",
      "Epoch 7/10\n",
      "\u001b[1m38558/38558\u001b[0m \u001b[32m━━━━━━━━━━━━━━━━━━━━\u001b[0m\u001b[37m\u001b[0m \u001b[1m103s\u001b[0m 3ms/step - loss: 0.0701 - mean_squared_logarithmic_error: 0.0701 - val_loss: 0.0677 - val_mean_squared_logarithmic_error: 0.0677\n",
      "Epoch 8/10\n",
      "\u001b[1m38558/38558\u001b[0m \u001b[32m━━━━━━━━━━━━━━━━━━━━\u001b[0m\u001b[37m\u001b[0m \u001b[1m104s\u001b[0m 3ms/step - loss: 0.0701 - mean_squared_logarithmic_error: 0.0701 - val_loss: 0.0712 - val_mean_squared_logarithmic_error: 0.0712\n",
      "Epoch 9/10\n",
      "\u001b[1m38558/38558\u001b[0m \u001b[32m━━━━━━━━━━━━━━━━━━━━\u001b[0m\u001b[37m\u001b[0m \u001b[1m105s\u001b[0m 3ms/step - loss: 0.0702 - mean_squared_logarithmic_error: 0.0702 - val_loss: 0.0690 - val_mean_squared_logarithmic_error: 0.0690\n",
      "Epoch 10/10\n",
      "\u001b[1m38558/38558\u001b[0m \u001b[32m━━━━━━━━━━━━━━━━━━━━\u001b[0m\u001b[37m\u001b[0m \u001b[1m107s\u001b[0m 3ms/step - loss: 0.0700 - mean_squared_logarithmic_error: 0.0700 - val_loss: 0.0669 - val_mean_squared_logarithmic_error: 0.0669\n"
     ]
    }
   ],
   "source": [
    "msle = MeanSquaredLogarithmicError()\n",
    "model.compile(loss=msle, optimizer=Adam(learning_rate=learning_rate), metrics=[msle])\n",
    "history = model.fit(X_train_scaled, Y_train, epochs=10, batch_size=64,validation_split=0.2)"
   ]
  },
  {
   "cell_type": "code",
   "execution_count": 7,
   "id": "6f41c22c",
   "metadata": {},
   "outputs": [
    {
     "name": "stdout",
     "output_type": "stream",
     "text": [
      "\u001b[1m24099/24099\u001b[0m \u001b[32m━━━━━━━━━━━━━━━━━━━━\u001b[0m\u001b[37m\u001b[0m \u001b[1m35s\u001b[0m 1ms/step\n",
      "[[1.0402846e+00]\n",
      " [7.6613745e+03]\n",
      " [1.0850110e+04]\n",
      " ...\n",
      " [1.5813071e+03]\n",
      " [1.2171315e+04]\n",
      " [9.9614951e+03]]\n"
     ]
    }
   ],
   "source": [
    "y_1 = model.predict(X_test)\n",
    "print(y_1)  \n",
    "y_1 = pd.DataFrame(y_1)\n",
    "y_1.to_csv('RF-EQPD.csv')"
   ]
  },
  {
   "cell_type": "code",
   "execution_count": 7,
   "id": "319e1bef",
   "metadata": {},
   "outputs": [
    {
     "name": "stdout",
     "output_type": "stream",
     "text": [
      "MSE:  26.02709818867845  \n",
      "R2:  -14.20033442064869  \n",
      "MAE:  1.3914766810030201\n"
     ]
    }
   ],
   "source": [
    "print(\"MSE: \",mean_squared_error(Y_test,y_1),\" \\nR2: \",r2_score(Y_test,y_1),\" \\nMAE: \",mean_absolute_error(Y_test,y_1))"
   ]
  }
 ],
 "metadata": {
  "kernelspec": {
   "display_name": "Python 3 (ipykernel)",
   "language": "python",
   "name": "python3"
  },
  "language_info": {
   "codemirror_mode": {
    "name": "ipython",
    "version": 3
   },
   "file_extension": ".py",
   "mimetype": "text/x-python",
   "name": "python",
   "nbconvert_exporter": "python",
   "pygments_lexer": "ipython3",
   "version": "3.12.3"
  }
 },
 "nbformat": 4,
 "nbformat_minor": 5
}
